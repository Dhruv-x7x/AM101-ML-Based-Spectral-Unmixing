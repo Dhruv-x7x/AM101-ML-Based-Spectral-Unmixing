{
 "cells": [
  {
   "cell_type": "markdown",
   "id": "1d560e79",
   "metadata": {},
   "source": [
    "Attempt at building the unmixing pipeline for easier testing."
   ]
  },
  {
   "cell_type": "code",
   "execution_count": 15,
   "id": "5a9d3006",
   "metadata": {},
   "outputs": [],
   "source": [
    "import numpy as np\n",
    "import matplotlib.pyplot as plt\n",
    "from scipy.io import loadmat\n",
    "from abc import ABC, abstractmethod"
   ]
  },
  {
   "cell_type": "code",
   "execution_count": 14,
   "id": "621112a3",
   "metadata": {},
   "outputs": [],
   "source": [
    "HYDICE_PATH = 'C:/Users/Dhruv/OneDrive/Documents/Repositories/AM101/datasets/hydice/HYDICE-urban.mat' # Replace with Hydice dataset path"
   ]
  },
  {
   "cell_type": "code",
   "execution_count": 3,
   "id": "4f717583",
   "metadata": {},
   "outputs": [],
   "source": [
    "class HydiceDataLoader:\n",
    "    def __init__(self, filepath):\n",
    "        self.filepath = filepath\n",
    "        self.data_cube = None\n",
    "        self.ground_truth = None\n",
    "\n",
    "    def load(self):\n",
    "        '''\n",
    "        Returns: \n",
    "            - Data Cube: 80 x 100 x 175\n",
    "            - Ground Truth Map: 80 x 100\n",
    "        '''\n",
    "        mat = loadmat(self.filepath)\n",
    "        self.data_cube = mat['data']\n",
    "        self.ground_truth = mat['map']\n",
    "        return self.data_cube, self.ground_truth\n",
    "    \n",
    "    def normalize(self):\n",
    "        if self.data_cube is not None:\n",
    "            self.data_cube = self.data_cube / np.max(self.data_cube)"
   ]
  },
  {
   "cell_type": "code",
   "execution_count": 13,
   "id": "a3fb9a4f",
   "metadata": {},
   "outputs": [],
   "source": [
    "data_loader = HydiceDataLoader(HYDICE_PATH)\n",
    "data_cube, ground_truth_map = data_loader.load()"
   ]
  },
  {
   "cell_type": "code",
   "execution_count": 16,
   "id": "301039bb",
   "metadata": {},
   "outputs": [],
   "source": [
    "class UnmixingAlgorithm(ABC):\n",
    "    def __init__(self):\n",
    "        self.endmembers = None\n",
    "        self.abundances = None\n",
    "\n",
    "    @abstractmethod\n",
    "    def fit(self, data_cube):\n",
    "        pass\n",
    "\n",
    "    @abstractmethod\n",
    "    def transform(self, data_cube):\n",
    "        pass\n",
    "\n",
    "    def fit_transform(self, data_cube):\n",
    "        self.fit(data_cube)\n",
    "        return self.transform(data_cube)"
   ]
  },
  {
   "cell_type": "code",
   "execution_count": null,
   "id": "4a6c8a0f",
   "metadata": {},
   "outputs": [],
   "source": [
    "class"
   ]
  }
 ],
 "metadata": {
  "kernelspec": {
   "display_name": "Python 3",
   "language": "python",
   "name": "python3"
  },
  "language_info": {
   "codemirror_mode": {
    "name": "ipython",
    "version": 3
   },
   "file_extension": ".py",
   "mimetype": "text/x-python",
   "name": "python",
   "nbconvert_exporter": "python",
   "pygments_lexer": "ipython3",
   "version": "3.11.9"
  }
 },
 "nbformat": 4,
 "nbformat_minor": 5
}
